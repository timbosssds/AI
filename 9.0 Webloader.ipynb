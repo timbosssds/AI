{
 "cells": [
  {
   "cell_type": "code",
   "execution_count": null,
   "metadata": {},
   "outputs": [],
   "source": [
    "# Date: 21.02.25\n",
    "# Purpose: Want to experiment with WebBaseLoader\n",
    "# Theme: Langchain\n",
    "# Status: Functional test only (no application here)"
   ]
  },
  {
   "cell_type": "code",
   "execution_count": 8,
   "metadata": {},
   "outputs": [],
   "source": [
    "#!pip install langchain-community\n",
    "#!pip install bs4"
   ]
  },
  {
   "cell_type": "markdown",
   "metadata": {},
   "source": [
    "### Initial set up"
   ]
  },
  {
   "cell_type": "code",
   "execution_count": 19,
   "metadata": {},
   "outputs": [
    {
     "name": "stderr",
     "output_type": "stream",
     "text": [
      "c:\\Users\\Tim_S\\Desktop\\bt\\AI\\ai\\Lib\\site-packages\\tqdm\\auto.py:21: TqdmWarning: IProgress not found. Please update jupyter and ipywidgets. See https://ipywidgets.readthedocs.io/en/stable/user_install.html\n",
      "  from .autonotebook import tqdm as notebook_tqdm\n"
     ]
    }
   ],
   "source": [
    "# -- 3.0 Set up LLM --\n",
    "import os\n",
    "from typing import List\n",
    "from dotenv import load_dotenv\n",
    "from IPython.display import Markdown, display, update_display\n",
    "#from openai import OpenAI\n",
    "\n",
    "load_dotenv(override=True)\n",
    "api_key = os.getenv('GOOGLE_API_KEY')\n",
    "import os\n",
    "import google.generativeai as genai\n",
    "genai.configure(api_key= api_key)\n",
    "\n",
    "# Create the model\n",
    "generation_config = {\n",
    "  \"temperature\": 0.2,\n",
    "  \"top_p\": 0.90,\n",
    "  \"top_k\": 40,\n",
    "  \"max_output_tokens\": 8192,\n",
    "  \"response_mime_type\": \"text/plain\",\n",
    "  #\"response_mime_type\": \"application/json\",\n",
    "}\n",
    "\n",
    "model = genai.GenerativeModel(model_name=\"gemini-1.5-flash\",\n",
    "  generation_config=generation_config,)\n",
    "chat_session = model.start_chat(\n",
    "  history=[  ])\n",
    "# response = chat_session.send_message(message)\n",
    "# print(response.text)"
   ]
  },
  {
   "cell_type": "code",
   "execution_count": 17,
   "metadata": {},
   "outputs": [
    {
     "name": "stdout",
     "output_type": "stream",
     "text": [
      "   Credit cards, bank accounts, home loans and more | Bendigo Bank\n",
      "Skip to main content     Following the RBA's decision to lower the cash rate, we are changing our\n",
      "rates. Find out moreClose alert Personal- current sectionBusinessCommunityAbout usContact usSecurity\n",
      "centreHelp & supportBlogBSB: 633-000A -A + Locate us SearchSelect login domain:e-bankinge-\n",
      "bankingShare tradingLoginPersonal bankingBank accountsHome loansCredit\n",
      "cardsInsuranceInvestingFinancial adviceLogine-bankingShare tradingMost popular searchHome loansTerm\n",
      "depositsPersonal loansTools and calculatorsFind products and servicesPersonal- current\n",
      "sectionBusinessCommunityPersonal bankingBank accountsHome loansCredit\n",
      "cardsInsuranceInvestingFinancial advice Locate usAbout usContact usSecurity centreHelp &\n",
      "supportBlogBSB: 633-000Back to main navigation\n",
      "Big on bankingBigger for you every day\n",
      "Everyday accounts for everyday Aussies.    Explore our accounts\n",
      "Voted Australia's most trusted bank^             Caring for 2.5 million customers\n",
      "A top 100 ASX listed Company                    Better banking solutions for you\n",
      "2.5 million Australians trust us with their banking needs every day.^ Find out how we can be bigger\n",
      "for you.                            View a full list of products & services         Personal banking\n",
      "Personal banking    With competitive rates, award-winning service, and a wide range of products to\n",
      "choose from.  We make everyday banking better for you.    View all personal banking\n",
      "Business banking       Business banking    We offer an extensive product range together with\n",
      "competitive rates. We're here to help you manage and grow your business.    View all business\n",
      "banking           Community banking       Community banking    We invest profits back into\n",
      "Australian communities. Every day our customers help change and save lives, simply by banking with\n",
      "us.    View all community banking                        We're big for customers in more ways than\n",
      "one   As well as providing the products, services and security you expect from a big bank, we invest\n",
      "profits back into Australian communities. We're bigger for supporting Australians to thrive.\n",
      "Big on security   Every day we work to protect our customers money and personal information. We're\n",
      "committed to helping customers bank safely online and feel protected.                       Learn\n",
      "more about security                                 Big on accessibility   Bank anywhere, anytime.\n",
      "Our customers have the choice to bank online, over the phone, via our app, or in person at a branch\n",
      "because we make banking easier for everyone.                       Learn more about ways to bank\n",
      "Big on digital banking   We’re bigger for helping customers feel confident in today’s digital world.\n",
      "With online banking being just one of the ways we make banking easier for everyone.\n",
      "Learn more about digital banking                              The better big bank   When it comes to\n",
      "banking, we’re big. When it comes to our customers, we’re bigger.                       Learn more\n",
      "about us                              Join the bank that’s bigger for you.     Switch to Bendigo\n",
      "Bank                                          Load video                              How Bendigo\n",
      "Bank customers saved $5,772 on their home loan                         Show transcript\n",
      "Close transcript                     Ross: This whole project for us started when Penny showed me\n",
      "this design on Instagram and said, \"this is my dream home\" and I absolutely agreed, so we decided to\n",
      "build it.We were introduced to Bendigo Bank and Amanda was introduced to us via a friend and she\n",
      "absolutely understood what the project was and how they could play a role in making it work, so\n",
      "we're completely grateful for that.Amanda: Penny and Ross reached out to me through one of their\n",
      "friends that I had helped with their home loan and they'll actually just after a home loan health\n",
      "check.A home loan health check is when we go through all of our customers current loans and accounts\n",
      "with other banks, and we figure out the best option going forward for what it is that they\n",
      "need.Amanda: In Ross and Penny's case, they both work from home so having a mobile lender makes life\n",
      "easier for them and it fits into their lifestyle.Ross: We'd spent a lot of time talking to other\n",
      "banks and had really felt like they didn't realise there was people on the other end of the\n",
      "conversation, whereas with Bendigo Bank, we really felt like she took the time to understand who we\n",
      "were, she took the time to understand what the project was and was able to shape the Bendigo Bank\n",
      "products to suit our needs.Amanda: After their initial home loan health check, we managed to save\n",
      "them over $5,500, which for them worked out to be over $200 per fortnight.Ross: We found the whole\n",
      "Bendigo Bank experience fantastic. If you're thinking about refinancing your home loan or wondering\n",
      "whether that dream home is in reach, what we would say is please call Bendigo Bank today, do your\n",
      "home loan health check. You can absolutely trust the experience and flexibility at Bendigo Bank. I\n",
      "don't think you need to go anywhere else.Amanda: Whether you're a Bendigo Bank customer or not, book\n",
      "an appointment now for a free Bendigo Bank Home Loan Health Check.\n",
      "Close transcript                     Get the support you need when it comes to your home.\n",
      "Do you know how much you could save on your home loan? All over Australia, homeowners are saving\n",
      "money with a free Bendigo Bank home loan health check. Watch how the Norris family saved $5,772 last\n",
      "year on their home loan.**      Find out more\n",
      "North Queensland Flood Appeal                              Recent flooding has seriously impacted\n",
      "North Queensland communities and they need your support. Your donation will help residents,\n",
      "community facilities and volunteers.   Donate now                              We're here for you\n",
      "Contact us online             Call 1300 236 344              Locate a branch                  Get\n",
      "the support you need                 e-banking help                Financial difficulty assistance\n",
      "Lost or stolen cards                  Financial abuse                Deceased estates         View\n",
      "more options                         Things you should know                          ^ Roy Morgan\n",
      "Risk Monitor 2024. Customers of Bendigo and Adelaide Bank Limited.             ** Amount saved was\n",
      "annual payments reduction on an owner-occupied home loan when repayments dropped by $481 a month\n",
      "from lower interest rate and loan restructure. Actual savings will depend on individual\n",
      "circumstances. Terms & conditions apply.             Terms and conditions, fees and charges apply.\n",
      "All information including interest rate is subject to change without notice. Full details available\n",
      "on application. Lending criteria apply.                         Quick links    Contact us   Locate a\n",
      "branch, ATM or Agency   Switch your banking to us   View all products and services   View all tools\n",
      "and calculators   View our rates      Banking with us    Personal banking   Business banking   Ways\n",
      "to bank   Internet banking   Electronic ID      About us    About Bendigo Bank   Community   Media\n",
      "centre   Investors   Sustainability   Accessibility and inclusion   Careers      Help & support\n",
      "Financial abuse   Deceased estates   Regular payments   Financial difficulty assistance\n",
      "Connect with us                                            Terms of use   Important information\n",
      "Privacy   Target Market Determinations                Bendigo and Adelaide Bank acknowledges\n",
      "Aboriginal and Torres Strait Islander peoples as the First Peoples of this nation and the\n",
      "Traditional Custodians of the land where we live, learn and work. We pay our respects to Elders past\n",
      "and present as it is their knowledge and experience that holds the key to the success of future\n",
      "generations.       Bendigo and Adelaide Bank Limited, ABN 11 068 049 178 AFSL / Australian Credit\n",
      "Licence 237879. Any advice provided on this website is of a general nature only and does not take\n",
      "into account your personal needs, objectives and financial circumstances. You should consider\n",
      "whether it is appropriate for your situation. Please read the applicable Disclosure Documents before\n",
      "acquiring any product described on this website. Please also review our Financial Services Guide\n",
      "(FSG) before accessing information on this website. Information on this page can change without\n",
      "notice to you.                © Copyright 2025 Bendigo and Adelaide Bank\n"
     ]
    }
   ],
   "source": [
    "import textwrap\n",
    "from langchain_community.document_loaders import WebBaseLoader\n",
    "\n",
    "# Load the webpage\n",
    "loader = WebBaseLoader(\"https://www.bendigobank.com.au/\")\n",
    "docs = loader.load()  # This returns a list of LangChain Document objects\n",
    "\n",
    "# Extract text from documents and join them into a single string\n",
    "#text = \"\\n\\n\".join([doc.page_content for doc in docs])  # Ensure proper string formatting\n",
    "text = \"\\n\".join([doc.page_content for doc in docs])  # Ensure proper string formatting\n",
    "\n",
    "\n",
    "# Use textwrap to format the output\n",
    "print(textwrap.fill(text, width=100))\n"
   ]
  },
  {
   "cell_type": "code",
   "execution_count": 21,
   "metadata": {},
   "outputs": [
    {
     "name": "stdout",
     "output_type": "stream",
     "text": [
      "Bendigo Bank's website offers a full range of personal and business banking services, including\n",
      "accounts, home loans, credit cards, and investment products.  They emphasize their customer-centric\n",
      "approach, highlighting their ranking as Australia's most trusted bank and their community\n",
      "investment.  A key selling point is a free home loan health check, illustrated by a customer\n",
      "testimonial detailing savings of $5,772.  The site also promotes convenient digital banking options\n",
      "and strong security measures.  Finally, it provides easy access to contact information, branch\n",
      "locations, and support resources, including assistance for those experiencing financial difficulty.\n"
     ]
    }
   ],
   "source": [
    "context = text\n",
    "question = \"Please summarise\"\n",
    "message = question + context\n",
    "response = chat_session.send_message(message)\n",
    "print(textwrap.fill(response.text, width=100))"
   ]
  },
  {
   "cell_type": "code",
   "execution_count": null,
   "metadata": {},
   "outputs": [],
   "source": []
  }
 ],
 "metadata": {
  "kernelspec": {
   "display_name": "ai",
   "language": "python",
   "name": "python3"
  },
  "language_info": {
   "codemirror_mode": {
    "name": "ipython",
    "version": 3
   },
   "file_extension": ".py",
   "mimetype": "text/x-python",
   "name": "python",
   "nbconvert_exporter": "python",
   "pygments_lexer": "ipython3",
   "version": "3.12.9"
  }
 },
 "nbformat": 4,
 "nbformat_minor": 2
}
